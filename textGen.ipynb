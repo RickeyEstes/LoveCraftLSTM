{
 "cells": [
  {
   "cell_type": "code",
   "execution_count": 1,
   "metadata": {},
   "outputs": [
    {
     "name": "stderr",
     "output_type": "stream",
     "text": [
      "Using TensorFlow backend.\n"
     ]
    }
   ],
   "source": [
    "from textgenrnn import textgenrnn \n",
    "import glob"
   ]
  },
  {
   "cell_type": "code",
   "execution_count": 2,
   "metadata": {},
   "outputs": [],
   "source": [
    "textgen = textgenrnn()"
   ]
  },
  {
   "cell_type": "code",
   "execution_count": 3,
   "metadata": {},
   "outputs": [],
   "source": [
    "corpus = ''\n",
    "for file_name in glob.glob('lovecraft_corpus/*'):\n",
    "    with open(file_name) as f:\n",
    "        corpus+=f.read()"
   ]
  },
  {
   "cell_type": "code",
   "execution_count": 4,
   "metadata": {},
   "outputs": [],
   "source": [
    "with open('lovecraft_corpus.txt', 'w') as f:\n",
    "    f.write(corpus)"
   ]
  },
  {
   "cell_type": "code",
   "execution_count": 5,
   "metadata": {},
   "outputs": [
    {
     "name": "stdout",
     "output_type": "stream",
     "text": [
      "8,650 texts collected.\n",
      "Training on 2,890,739 character sequences.\n",
      "Epoch 1/1\n",
      "705/705 [==============================] - 844s 1s/step - loss: 1.4231\n",
      "####################\n",
      "Temperature: 0.2\n",
      "####################\n",
      "\n",
      "\n",
      "\n",
      "\n",
      "\n",
      "\n",
      "####################\n",
      "Temperature: 0.5\n",
      "####################\n",
      "\n",
      "\n",
      "There was to strange the side of the waste of the searchly carrier weak of the prance in the camp of the floor of the resting of the brain of the convince were secrets of the heat at the controvert for the faint courty and they do not be mad. The thing were a far the live and steps of the content o\n",
      "\n",
      "\n",
      "\n",
      "####################\n",
      "Temperature: 1.0\n",
      "####################\n",
      "\"Amtrait he shudder that twenty, and this means toward the fovirism under this kind which since more certain little characters had saying haunted me angled upon those Wars wearoud sound on this suspirities, after strength it some life. Don't roar--busine is titting out found nearness letter print--\n",
      "\n",
      "For I think in the books of clear to the enchanter weather. Thought he shadowing up as \"Old Hours stair of the boring; food at last you swap.\n",
      "\n",
      "And any doll came thank these-Gilman's discours. One little grabbing shadows, and ablogical--reservating, and dwelt far carrous relief, I had seen and unhave, she bore and shift I accomplate to the Nosman bungs of the window message with its course of creature in Well, an old enterimate Eurohe's se\n",
      "\n"
     ]
    }
   ],
   "source": [
    "textgen.train_from_file('lovecraft_corpus.txt', num_epochs = 1, batch_size = 4096)"
   ]
  },
  {
   "cell_type": "code",
   "execution_count": null,
   "metadata": {},
   "outputs": [],
   "source": [
    "#textgen.generate_samples()\n",
    "#textgen.generate(prefix='the')"
   ]
  },
  {
   "cell_type": "code",
   "execution_count": 13,
   "metadata": {},
   "outputs": [
    {
     "name": "stdout",
     "output_type": "stream",
     "text": [
      "####################\n",
      "Temperature: 0.5\n",
      "####################\n",
      "the indeed of the like other people of the marvellous and his trace showed by the present of the perspective disturbing deep, but a lonely of the world had found on the end of the faint and the extraordic sides of the sudden less cave the sight of the rest of a college college room that the rest of\n",
      "\n",
      "the no seemed to still stop the trace of the thing to the room was him to a door whose profound to in a sun ten the spent to the most way to tell me that the way were no a conclusion to the curioscial of the death of the cases were to the strange world and and studied a specimen of the criminable d\n",
      "\n",
      "the first thing were so caused a man below their thing that had been the desert and the deep desert that sometimes the little of Dr. Presiden and Deni. The terrible moment was a close and long and stranger out of the standing beyond the tales of a barrel definite never curious and loathment and sec\n",
      "\n",
      "####################\n",
      "Temperature: 0.6\n",
      "####################\n",
      "the most side of the little walls of the physical semilation to me to the marvel, but the phase of much case and traces were like a public of the sickly reletted part of a sort of place of the subterraneation the proveling the new quarting days of death ended upon it. There was a fright of the soul\n",
      "\n",
      "the water of the statement and the safety could not be bold to tell me a groceroun of the clouds and probably she had never been merely in contrapse of the decay of a chastic hand and which he was a straight in the roof. There was no singular seat to the conclusion of the terror to the prayers of t\n",
      "\n",
      "the shadow such the studied had seen the shingles of the great Old Zonas thought he had seen them. I had camper that I did that he was always should that shall be thought of the him so looking and in the hideous conclusion of the unmattory scene which no books and moon of regions of the end of the \n",
      "\n",
      "####################\n",
      "Temperature: 0.7\n",
      "####################\n",
      "the start sensitive substance the army of which all sedeless beneath the scraws of that plose ocean of men shall abriew to the cruwp; and about the ground of the manile will said the regular tall of life.\n",
      "\n",
      "the Edaplow ten the cold moonless was to the parts of the retermores as I mention our account of a farm of time and sense of save of through the Mount of studies college and real of the defense of an act of the end of the unchampriness story of an leare among the time while the top of his condition\n",
      "\n",
      "the right were calling a stagger of the tropical sourcer with sound--emergence of the short hideous ship in the air. The parts of the old newly professional and only moonly read on the seven on the water, the sea and honey effected. But the mad source was clumpled to conject in the hideous parts of\n",
      "\n"
     ]
    }
   ],
   "source": [
    "textgen.generate_samples(temperatures = [.5, .6, .7], prefix='the ')"
   ]
  },
  {
   "cell_type": "code",
   "execution_count": 53,
   "metadata": {},
   "outputs": [],
   "source": [
    "def next_word(word):\n",
    "    sentences = textgen.generate(1, prefix=word+' ', return_as_list=True)\n",
    "    \n",
    "    first_sentence = sentences[0]\n",
    "    for word in first_sentence.split(' ')[1:]:\n",
    "        if word.strip() != '':\n",
    "            return word"
   ]
  },
  {
   "cell_type": "code",
   "execution_count": 54,
   "metadata": {},
   "outputs": [],
   "source": [
    "def predictive_gen(seed, chain_length = 5):\n",
    "    sequence = seed\n",
    "    current_word = seed\n",
    "    for i in range(chain_length):\n",
    "        print(current_word)\n",
    "        current_word = next_word(current_word)\n",
    "        sequence+= (' '+current_word)\n",
    "        \n",
    "    return sequence\n"
   ]
  },
  {
   "cell_type": "code",
   "execution_count": 51,
   "metadata": {},
   "outputs": [
    {
     "name": "stdout",
     "output_type": "stream",
     "text": [
      "start\n",
      "tower\n",
      "when\n",
      "they\n",
      "were\n",
      "something\n",
      "and\n",
      "cameral\n",
      "probled\n",
      "men\n",
      "reached\n",
      "what\n",
      "I\n",
      "had\n",
      "it\n"
     ]
    },
    {
     "data": {
      "text/plain": [
       "'start tower when they were something and cameral probled men reached what I had it was'"
      ]
     },
     "execution_count": 51,
     "metadata": {},
     "output_type": "execute_result"
    }
   ],
   "source": [
    "predictive_gen('start')"
   ]
  },
  {
   "cell_type": "code",
   "execution_count": 70,
   "metadata": {},
   "outputs": [],
   "source": [
    "def next_words(words, words_at_a_time=1):\n",
    "    print('seed = '+words)\n",
    "    sentences = textgen.generate(1, prefix=words+' ', return_as_list=True)\n",
    "    \n",
    "    first_sentence = sentences[0]\n",
    "    \n",
    "    word_count = 0\n",
    "    returning_words = ''\n",
    "    sentence_tail = first_sentence.split(' ')[words_at_a_time:]\n",
    "    \n",
    "    while word_count < words_at_a_time:\n",
    "        word = sentence_tail[word_count]\n",
    "        if word.strip() != '':\n",
    "            returning_words+=(word+' ')\n",
    "            word_count+=1\n",
    "        else:\n",
    "            sentence_tail = sentence_tail[1:]\n",
    "    return returning_words\n",
    "        \n",
    "def predictive_gen_multiword(seed, chain_length = 5, words_at_a_time=1):\n",
    "    sequence = seed+' '\n",
    "    current_word = seed\n",
    "    for i in range(chain_length):\n",
    "        print(current_word)\n",
    "        print('sequence = '+sequence)\n",
    "        current_word = next_words(current_word, words_at_a_time)\n",
    "        sequence+= current_word\n",
    "        \n",
    "    return sequence"
   ]
  },
  {
   "cell_type": "code",
   "execution_count": 72,
   "metadata": {},
   "outputs": [
    {
     "name": "stdout",
     "output_type": "stream",
     "text": [
      "the man\n",
      "sequence = the man \n",
      "seed = the man\n",
      "ever before when I had \n",
      "sequence = the man ever before when I had \n",
      "seed = ever before when I had \n",
      "on the sky of the \n",
      "sequence = the man ever before when I had on the sky of the \n",
      "seed = on the sky of the \n",
      "and the strange course of \n",
      "sequence = the man ever before when I had on the sky of the and the strange course of \n",
      "seed = and the strange course of \n",
      "at that thing they were \n",
      "sequence = the man ever before when I had on the sky of the and the strange course of at that thing they were \n",
      "seed = at that thing they were \n",
      "New the conquered twice of \n",
      "sequence = the man ever before when I had on the sky of the and the strange course of at that thing they were New the conquered twice of \n",
      "seed = New the conquered twice of \n",
      "and camp and pretend dead \n",
      "sequence = the man ever before when I had on the sky of the and the strange course of at that thing they were New the conquered twice of and camp and pretend dead \n",
      "seed = and camp and pretend dead \n",
      "account that I was a \n",
      "sequence = the man ever before when I had on the sky of the and the strange course of at that thing they were New the conquered twice of and camp and pretend dead account that I was a \n",
      "seed = account that I was a \n",
      "and half an executor of \n",
      "sequence = the man ever before when I had on the sky of the and the strange course of at that thing they were New the conquered twice of and camp and pretend dead account that I was a and half an executor of \n",
      "seed = and half an executor of \n",
      "grotesque sounds of their worlds \n",
      "sequence = the man ever before when I had on the sky of the and the strange course of at that thing they were New the conquered twice of and camp and pretend dead account that I was a and half an executor of grotesque sounds of their worlds \n",
      "seed = grotesque sounds of their worlds \n"
     ]
    },
    {
     "data": {
      "text/plain": [
       "'the man ever before when I had on the sky of the and the strange course of at that thing they were New the conquered twice of and camp and pretend dead account that I was a and half an executor of grotesque sounds of their worlds and that the starts of '"
      ]
     },
     "execution_count": 72,
     "metadata": {},
     "output_type": "execute_result"
    }
   ],
   "source": [
    "predictive_gen_multiword('the man', 10, 5)"
   ]
  },
  {
   "cell_type": "code",
   "execution_count": null,
   "metadata": {},
   "outputs": [],
   "source": []
  }
 ],
 "metadata": {
  "kernelspec": {
   "display_name": "Python [conda env:pyenv36] *",
   "language": "python",
   "name": "conda-env-pyenv36-py"
  },
  "language_info": {
   "codemirror_mode": {
    "name": "ipython",
    "version": 3
   },
   "file_extension": ".py",
   "mimetype": "text/x-python",
   "name": "python",
   "nbconvert_exporter": "python",
   "pygments_lexer": "ipython3",
   "version": "3.6.8"
  }
 },
 "nbformat": 4,
 "nbformat_minor": 2
}
