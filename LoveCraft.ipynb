{
 "cells": [
  {
   "cell_type": "code",
   "execution_count": null,
   "metadata": {},
   "outputs": [],
   "source": [
    "import pandas as pd\n",
    "import seaborn as sns\n",
    "import numpy as np\n",
    "import glob\n",
    "\n",
    "import tensorflow.keras as keras\n",
    "import tensorflow.keras.layers as layers"
   ]
  },
  {
   "cell_type": "code",
   "execution_count": null,
   "metadata": {},
   "outputs": [],
   "source": [
    "import tensorflow as tf"
   ]
  },
  {
   "cell_type": "code",
   "execution_count": null,
   "metadata": {},
   "outputs": [],
   "source": [
    "file_names = glob.glob('lovecraft_corpus/*.txt')"
   ]
  },
  {
   "cell_type": "code",
   "execution_count": null,
   "metadata": {},
   "outputs": [],
   "source": [
    "len(file_names)"
   ]
  },
  {
   "cell_type": "code",
   "execution_count": null,
   "metadata": {},
   "outputs": [],
   "source": [
    "def get_sentences(file_name):\n",
    "    with open(file_name, 'r') as f:\n",
    "        return f.read().split('.')"
   ]
  },
  {
   "cell_type": "code",
   "execution_count": null,
   "metadata": {},
   "outputs": [],
   "source": [
    "MIN_LENGTH = 90\n",
    "sentences = []\n",
    "for file_name in file_names:\n",
    "    sentences+=get_sentences(file_name)\n",
    "\n",
    "sentences = [sentence.replace('\\n','') for sentence in sentences]\n",
    "sentences = [sentence.replace('\\t','') for sentence in sentences]\n",
    "sentences = [sentence for sentence in sentences if len(sentence)>MIN_LENGTH]"
   ]
  },
  {
   "cell_type": "code",
   "execution_count": null,
   "metadata": {},
   "outputs": [],
   "source": [
    "lengths = [len(sentence) for sentence in sentences]"
   ]
  },
  {
   "cell_type": "code",
   "execution_count": null,
   "metadata": {},
   "outputs": [],
   "source": [
    "lengths = pd.Series(lengths)"
   ]
  },
  {
   "cell_type": "code",
   "execution_count": null,
   "metadata": {},
   "outputs": [],
   "source": [
    "lengths.describe()\n",
    "# 14228 our of 18k"
   ]
  },
  {
   "cell_type": "code",
   "execution_count": null,
   "metadata": {},
   "outputs": [],
   "source": [
    "sentences"
   ]
  },
  {
   "cell_type": "markdown",
   "metadata": {},
   "source": [
    "# Load Whole Corpus"
   ]
  },
  {
   "cell_type": "code",
   "execution_count": null,
   "metadata": {},
   "outputs": [],
   "source": [
    "corpus = \"\"\n",
    "for file_name in file_names:\n",
    "    with open(file_name, 'r') as f:\n",
    "            corpus+=f.read()\n",
    "corpus = corpus.replace('\\n','')\n",
    "corpus = corpus.replace('\\t','')\n",
    "corpus = corpus.replace('æ','ae')\n",
    "corpus = corpus.replace('ë','e')\n",
    "corpus = corpus.replace('ö','o')\n",
    "corpus = corpus.replace('ä','a')\n",
    "\n",
    "len(corpus)"
   ]
  },
  {
   "cell_type": "code",
   "execution_count": null,
   "metadata": {},
   "outputs": [],
   "source": [
    "len(corpus)"
   ]
  },
  {
   "cell_type": "code",
   "execution_count": null,
   "metadata": {},
   "outputs": [],
   "source": [
    "chars = list(set(corpus))\n",
    "VOCAB_SIZE = len(chars)\n",
    "char_to_ix = {char:ix for ix, char in enumerate(chars)}\n",
    "SEQ_LENGTH = 50\n",
    "slices = len(corpus)//SEQ_LENGTH"
   ]
  },
  {
   "cell_type": "code",
   "execution_count": null,
   "metadata": {},
   "outputs": [],
   "source": [
    "slices"
   ]
  },
  {
   "cell_type": "code",
   "execution_count": null,
   "metadata": {},
   "outputs": [],
   "source": [
    "import sys\n",
    "\n",
    "sys.getsizeof('a'*SEQ_LENGTH)*slices"
   ]
  },
  {
   "cell_type": "code",
   "execution_count": null,
   "metadata": {
    "scrolled": true
   },
   "outputs": [],
   "source": [
    "sorted(chars)"
   ]
  },
  {
   "cell_type": "code",
   "execution_count": null,
   "metadata": {},
   "outputs": [],
   "source": [
    "X = np.zeros((slices, SEQ_LENGTH, VOCAB_SIZE))\n",
    "y = np.zeros((slices, SEQ_LENGTH, VOCAB_SIZE))\n",
    "\n",
    "for i in range(0, slices):\n",
    "    if i% 500==0:\n",
    "        print(i)\n",
    "    X_sequence = corpus[i*SEQ_LENGTH:(i+1)*SEQ_LENGTH]\n",
    "    X_sequence_ix = [char_to_ix[value] for value in X_sequence]\n",
    "    input_sequence = np.zeros((SEQ_LENGTH, VOCAB_SIZE))\n",
    "    for j in range(SEQ_LENGTH):\n",
    "        input_sequence[j][X_sequence_ix[j]] = 1.\n",
    "    X[i] = input_sequence\n",
    "                                                                                                                                                                                                                                                                                                                                                                                                                                                                                                                                                                                                                                                                                                                                                                                                                                                                                                                                                                                                                                                                                                                                                                                                                                                                                                                                                                                                                                                                                                                                                                                                                                                                                                                                                                                                                                                                                                                                                                                                                                                                                                                                                                                                                                                                                                                                                                                                                                                                                                                                                                                                                                                                                                                                                                                                                                                                                                                                                                                                                                                                                                                                                                                                                                                                                                                                                                                                                                                                                                                                                                                                                                                                                                                                                                                                                                                                                                                                                                                                                                                                                                                                                                                                                                                                                                                                                                                                                                                                                                                                                                                                                                                                                                                                                                                                                                                                                                                                                                                                                                                                                                                                                                                                                                                                                                                                                                                                                                                                                                                                                                                                                                                                                                                                                                                                                                                                                                                                                                                                                                                                                                                                                                                                                                                                                                                                                                                                                                                                                                                                                                                                                                                                                                                                                                                                                                                                                                                                                                                                                                                                                                                                                                                                                                                                                                                                                                                                                                                                                                                                                                                                                                                                                                                                                                                                                                                                                                                                                                                                                                                                                                                                                                                                                                                                                                                                                                                                                                                                                                                                                                                                                                                                                                                                                                                                                                                                                                                                                                                                                                                                                                                                                                                                                                                                                                                                                                                                                                                                                                                                                                                                                                                                                                                                                                                                                                                                                                                                                                                                                                                                                                                                                                                                                                                                                                                                                                                                                                                                                                                                                                                                                                                                                                                                                                                                                                                                                                                                                                                                                                                                                                                                                                                                                                                                                                                                                                                                                                                                                                                                                                                                                                                                                                                                                                                                                                                                                                                                                                                                                                                                                                                                                                                                                                                                                                                                                                                                                                                                                                                                                                                                                                                                                                                                                                                                                                                                                                                                                                                                                                                                                                                                                                                                                                                                                                                                                                                                                                                                                                                                                                                                                                                                                                                                                                                                                                                                                                                                                                                                                                                                                                                                                                                                                                                                                                                                                                                                                                                                                                                                                                                                                                                                                                                                                                                                                                                                                                                                                                                                                                                                                                                                                                                                                                                                                                                                                                                                                                                                                                    \n",
    "    y_sequence = corpus[i*SEQ_LENGTH+1:(i+1)*SEQ_LENGTH+1]\n",
    "    y_sequence_ix = [char_to_ix[value] for value in y_sequence]\n",
    "    target_sequence = np.zeros((SEQ_LENGTH, VOCAB_SIZE))\n",
    "    for j in range(SEQ_LENGTH):\n",
    "        target_sequence[j][y_sequence_ix[j]] = 1.\n",
    "    y[i] = target_sequence"
   ]
  },
  {
   "cell_type": "code",
   "execution_count": null,
   "metadata": {},
   "outputs": [],
   "source": [
    "sys.getsizeof(X)"
   ]
  },
  {
   "cell_type": "markdown",
   "metadata": {},
   "source": [
    "# Two LSTM layers"
   ]
  },
  {
   "cell_type": "code",
   "execution_count": null,
   "metadata": {},
   "outputs": [],
   "source": [
    "UNITS = 125 #75\n",
    "TOTAL_OUTPUT = SEQ_LENGTH*VOCAB_SIZE\n",
    "inputs = tf.keras.Input(shape=(SEQ_LENGTH,VOCAB_SIZE), name='sentences')\n",
    "\n",
    "x = tf.keras.layers.LSTM(units = UNITS, name='LSTM_layer_1', return_sequences=True)(inputs)\n",
    "x = tf.keras.layers.LSTM(units = UNITS, name='LSTM_layer_2', return_sequences=True)(x)\n",
    "x = tf.keras.layers.TimeDistributed(tf.keras.layers.Dense(VOCAB_SIZE))(x)\n",
    "outputs = tf.keras.layers.Dense(VOCAB_SIZE, activation='softmax', name='predicted_sentence')(x)\n",
    "outputs = tf.keras.layers.Reshape((SEQ_LENGTH,VOCAB_SIZE))(outputs)\n",
    "model = tf.keras.models.Model(inputs=inputs, outputs=outputs)"
   ]
  },
  {
   "cell_type": "code",
   "execution_count": null,
   "metadata": {},
   "outputs": [],
   "source": [
    "customAdam = tf.keras.optimizers.Adam(lr=0.0005) \n",
    "model.compile(optimizer=customAdam, \n",
    "              # Loss function to minimize\n",
    "              loss=\"binary_crossentropy\",\n",
    "              # List of metrics to monitor\n",
    "              metrics=[\"mean_squared_error\",\"binary_crossentropy\"])\n",
    "es = tf.keras.callbacks.EarlyStopping(monitor='loss', mode='min', verbose=1, patience = 5)"
   ]
  },
  {
   "cell_type": "markdown",
   "metadata": {},
   "source": [
    "# Train the model"
   ]
  },
  {
   "cell_type": "code",
   "execution_count": null,
   "metadata": {},
   "outputs": [],
   "source": [
    "print('# Fit model on training data')\n",
    "\n",
    "history = model.fit(X, \n",
    "                    y, #we pass it the same input data as desired output\n",
    "                    #If the model is taking forever to train, make this bigger\n",
    "                    #If it is taking forever to load for the first epoch, make this smaller\n",
    "                    batch_size=4096, \n",
    "                    epochs=500,\n",
    "                    # using a sample as validation data. This is kinda wrong.\n",
    "                    validation_split=0.1,\n",
    "                    callbacks = [es]\n",
    "                   )"
   ]
  },
  {
   "cell_type": "code",
   "execution_count": null,
   "metadata": {},
   "outputs": [],
   "source": [
    "model.save('model_50_150_3.h5')"
   ]
  },
  {
   "cell_type": "markdown",
   "metadata": {},
   "source": [
    "# Dropout + 2 LSTM Layers "
   ]
  },
  {
   "cell_type": "code",
   "execution_count": null,
   "metadata": {},
   "outputs": [],
   "source": [
    "X.shape"
   ]
  },
  {
   "cell_type": "code",
   "execution_count": null,
   "metadata": {},
   "outputs": [],
   "source": [
    "chars_np = np.asarray(chars)\n",
    "\n",
    "def output_idx(i):\n",
    "    return np.argmax(model.predict(np.asarray([X[i]]))[0], 1)\n",
    "\n",
    "def output_str(i):\n",
    "    return ''.join(list(chars_np[output_idx(i)]))"
   ]
  },
  {
   "cell_type": "code",
   "execution_count": null,
   "metadata": {},
   "outputs": [],
   "source": [
    "random_stuff = ''\n",
    "for i in range(1000):\n",
    "    random_stuff+= output_str(i)\n",
    "with open('random_output_150_50_3.txt','w') as f:\n",
    "    f.write(random_stuff)"
   ]
  },
  {
   "cell_type": "code",
   "execution_count": null,
   "metadata": {},
   "outputs": [],
   "source": [
    "random_stuff"
   ]
  },
  {
   "cell_type": "code",
   "execution_count": null,
   "metadata": {
    "scrolled": true
   },
   "outputs": [],
   "source": [
    "from collections import Counter\n",
    "output_char_counts = Counter(random_stuff)\n",
    "input_char_counts = Counter(corpus)\n",
    "\n",
    "output_length = len(random_stuff)\n",
    "corpus_length = len(corpus)\n",
    "\n",
    "for k,v in input_char_counts.items():\n",
    "    print(\"{}: {}, {}\".format(k,100.0*v/corpus_length,100.0*output_char_counts[k]/output_length))"
   ]
  },
  {
   "cell_type": "code",
   "execution_count": null,
   "metadata": {},
   "outputs": [],
   "source": [
    "characters_in_corpus = []\n",
    "input_share = []\n",
    "output_share = []\n",
    "for k,v in input_char_counts.items():\n",
    "    characters_in_corpus.append(k)\n",
    "    input_share.append(100.0*v/corpus_length)\n",
    "    output_share.append(100.0*output_char_counts[k]/output_length)\n"
   ]
  },
  {
   "cell_type": "code",
   "execution_count": null,
   "metadata": {},
   "outputs": [],
   "source": [
    "df = pd.DataFrame()\n",
    "df['char'] = characters_in_corpus\n",
    "df['input_share'] = input_share\n",
    "df['output_share'] = output_share"
   ]
  },
  {
   "cell_type": "code",
   "execution_count": null,
   "metadata": {},
   "outputs": [],
   "source": [
    "output_str(100)"
   ]
  },
  {
   "cell_type": "code",
   "execution_count": null,
   "metadata": {},
   "outputs": [],
   "source": [
    "pd.Series([len(word) for word in random_stuff.split(' ')]).mean()"
   ]
  },
  {
   "cell_type": "code",
   "execution_count": null,
   "metadata": {},
   "outputs": [],
   "source": [
    "pd.Series([len(word) for word in corpus.split(' ')]).mean()"
   ]
  },
  {
   "cell_type": "code",
   "execution_count": null,
   "metadata": {},
   "outputs": [],
   "source": [
    "def output_idx_random():\n",
    "    X_sequence_ix = np.random.randint(0, VOCAB_SIZE, size=SEQ_LENGTH)\n",
    "    \n",
    "    input_sequence = np.zeros((SEQ_LENGTH, VOCAB_SIZE))\n",
    "    for j in range(SEQ_LENGTH):\n",
    "        input_sequence[j][X_sequence_ix[j]] = 1.\n",
    "    \n",
    "    out_idx = np.argmax(model.predict([[input_sequence]])[0], 1)\n",
    "    return ''.join(list(chars_np[out_idx]))"
   ]
  },
  {
   "cell_type": "code",
   "execution_count": null,
   "metadata": {},
   "outputs": [],
   "source": [
    "output_idx_random()"
   ]
  },
  {
   "cell_type": "markdown",
   "metadata": {},
   "source": [
    "## LSTM with less characters"
   ]
  },
  {
   "cell_type": "markdown",
   "metadata": {},
   "source": [
    "# predict only 10"
   ]
  },
  {
   "cell_type": "code",
   "execution_count": null,
   "metadata": {},
   "outputs": [],
   "source": [
    "INPUT_LENGTH = 10\n",
    "OUTPUT_LENGTH = 10\n",
    "slices = len(corpus)//INPUT_LENGTH\n",
    "X_smaller = np.zeros((slices, INPUT_LENGTH, VOCAB_SIZE))\n",
    "y_smaller = np.zeros((slices, OUTPUT_LENGTH, VOCAB_SIZE))\n",
    "\n",
    "for i in range(0, slices):\n",
    "    if i% 500==0:\n",
    "        print(i)\n",
    "    X_sequence = corpus[i*INPUT_LENGTH:(i+1)*INPUT_LENGTH]\n",
    "    X_sequence_ix = [char_to_ix[value] for value in X_sequence]\n",
    "    input_sequence = np.zeros((INPUT_LENGTH, VOCAB_SIZE))\n",
    "    for j in range(INPUT_LENGTH):\n",
    "        input_sequence[j][X_sequence_ix[j]] = 1.\n",
    "    X_smaller[i] = input_sequence\n",
    "                                                                                                                                                                                                                                                                                                                                                                                                                                                                                                                                                                                                                                                                                                                                                                                                                                                                                                                                                                                                                                                                                                                                                                                                                                                                                                                                                                                                                                                                                                                                                                                                                                                                                                                                                                                                                                                                                                                                                                                                                                                                                                                                                                                                                                                                                                                                                                                                                                                                                                                                                                                                                                                                                                                                                                                                                                                                                                                                                                                                                                                                                                                                                                                                                                                                                                                                                                                                                                                                                                                                                                                                                                                                                                                                                                                                                                                                                                                                                                                                                                                                                                                                                                                                                                                                                                                                                                                                                                                                                                                                                                                                                                                                                                                                                                                                                                                                                                                                                                                                                                                                                                                                                                                                                                                                                                                                                                                                                                                                                                                                                                                                                                                                                                                                                                                                                                                                                                                                                                                                                                                                                                                                                                                                                                                                                                                                                                                                                                                                                                                                                                                                                                                                                                                                                                                                                                                                                                                                                                                                                                                                                                                                                                                                                                                                                                                                                                                                                                                                                                                                                                                                                                                                                                                                                                                                                                                                                                                                                                                                                                                                                                                                                                                                                                                                                                                                                                                                                                                                                                                                                                                                                                                                                                                                                                                                                                                                                                                                                                                                                                                                                                                                                                                                                                                                                                                                                                                                                                                                                                                                                                                                                                                                                                                                                                                                                                                                                                                                                                                                                                                                                                                                                                                                                                                                                                                                                                                                                                                                                                                                                                                                                                                                                                                                                                                                                                                                                                                                                                                                                                                                                                                                                                                                                                                                                                                                                                                                                                                                                                                                                                                                                                                                                                                                                                                                                                                                                                                                                                                                                                                                                                                                                                                                                                                                                                                                                                                                                                                                                                                                                                                                                                                                                                                                                                                                                                                                                                                                                                                                                                                                                                                                                                                                                                                                                                                                                                                                                                                                                                                                                                                                                                                                                                                                                                                                                                                                                                                                                                                                                                                                                                                                                                                                                                                                                                                                                                                                                                                                                                                                                                                                                                                                                                                                                                                                                                                                                                                                                                                                                                                                                                                                                                                                                                                                                                                                                                                                                                                                                                    \n",
    "    y_sequence = corpus[(i+1)*INPUT_LENGTH:(i+1)*INPUT_LENGTH+OUTPUT_LENGTH]\n",
    "    y_sequence_ix = [char_to_ix[value] for value in y_sequence]\n",
    "    target_sequence = np.zeros((OUTPUT_LENGTH, VOCAB_SIZE))\n",
    "    for j in range(OUTPUT_LENGTH):\n",
    "        target_sequence[j][y_sequence_ix[j]] = 1.\n",
    "    y_smaller[i] = target_sequence"
   ]
  },
  {
   "cell_type": "code",
   "execution_count": null,
   "metadata": {},
   "outputs": [],
   "source": [
    "UNITS = 125 #75\n",
    "TOTAL_OUTPUT = OUTPUT_LENGTH*VOCAB_SIZE\n",
    "inputs_s = tf.keras.Input(shape=(INPUT_LENGTH,VOCAB_SIZE), name='sentences')\n",
    "\n",
    "x_s = tf.keras.layers.LSTM(units = UNITS, name='LSTM_layer_1', return_sequences=True)(inputs_s)\n",
    "x_s = tf.keras.layers.LSTM(units = UNITS*2, name='LSTM_layer_2', return_sequences=True)(x_s)\n",
    "x_s = tf.keras.layers.TimeDistributed(tf.keras.layers.Dense(VOCAB_SIZE))(x_s)\n",
    "outputs_s = tf.keras.layers.Dense(VOCAB_SIZE, activation='softmax', name='predicted_sentence')(x_s)\n",
    "\n",
    "\n",
    "outputs_s = tf.keras.layers.Reshape((OUTPUT_LENGTH,VOCAB_SIZE))(outputs_s)\n",
    "model_10 = tf.keras.models.Model(inputs=inputs_s, outputs=outputs_s)"
   ]
  },
  {
   "cell_type": "code",
   "execution_count": null,
   "metadata": {},
   "outputs": [],
   "source": [
    "customAdam = tf.keras.optimizers.Adam(lr=0.001) \n",
    "model_10.compile(optimizer=customAdam, \n",
    "              # Loss function to minimize\n",
    "              loss=\"binary_crossentropy\",\n",
    "              # List of metrics to monitor\n",
    "              metrics=[\"mean_squared_error\",\"binary_crossentropy\"])\n",
    "es = tf.keras.callbacks.EarlyStopping(monitor='loss', mode='min', verbose=1, patience = 5)"
   ]
  },
  {
   "cell_type": "code",
   "execution_count": null,
   "metadata": {},
   "outputs": [],
   "source": [
    "print('# Fit model on training data')\n",
    "\n",
    "history = model_10.fit(X_smaller, \n",
    "                    y_smaller, #we pass it the same input data as desired output\n",
    "                    #If the model is taking forever to train, make this bigger\n",
    "                    #If it is taking forever to load for the first epoch, make this smaller\n",
    "                    batch_size=256, \n",
    "                    epochs=500,\n",
    "                    # using a sample as validation data. This is kinda wrong.\n",
    "                    validation_split=0.1,\n",
    "                    callbacks = [es]\n",
    "                   )"
   ]
  },
  {
   "cell_type": "code",
   "execution_count": null,
   "metadata": {},
   "outputs": [],
   "source": [
    "X_smaller.shape"
   ]
  },
  {
   "cell_type": "code",
   "execution_count": null,
   "metadata": {},
   "outputs": [],
   "source": [
    "y_smaller.shape"
   ]
  },
  {
   "cell_type": "code",
   "execution_count": null,
   "metadata": {},
   "outputs": [],
   "source": [
    "model_10.summary()"
   ]
  }
 ],
 "metadata": {
  "kernelspec": {
   "display_name": "Python 3",
   "language": "python",
   "name": "python3"
  },
  "language_info": {
   "codemirror_mode": {
    "name": "ipython",
    "version": 2
   },
   "file_extension": ".py",
   "mimetype": "text/x-python",
   "name": "python",
   "nbconvert_exporter": "python",
   "pygments_lexer": "ipython2",
   "version": "2.7.16"
  }
 },
 "nbformat": 4,
 "nbformat_minor": 2
}
